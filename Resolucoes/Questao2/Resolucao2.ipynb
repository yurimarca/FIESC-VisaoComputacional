{
 "cells": [
  {
   "cell_type": "markdown",
   "id": "b0797593",
   "metadata": {},
   "source": [
    "## Prova prática de Visão Computacional\n",
    "\n",
    "2. Seja o conjunto de imagens satelitais associadas às regiões urbanas (pasta Questão 2)\n",
    "\n",
    "    a. A imagem RGB airport.png apresenta uma pista de aeroporto, conforme indicado abaixo. Implemente um código responsável pela seleção dos conjuntos de pixels associados ao objeto silo.\n",
    "\n",
    "    b.Considerando um conjunto de imagens satelitais provenientes do sensor WorldView-2 (resolução de 0.5m e 8 bandas espectrais, em arquivos .tif), implemente algum método para segmentação da vegetação presente nas cenas."
   ]
  },
  {
   "cell_type": "code",
   "execution_count": 1,
   "id": "5107ea2f",
   "metadata": {},
   "outputs": [
    {
     "name": "stdout",
     "output_type": "stream",
     "text": [
      "Archive:  Questão 2-20240328T203801Z-001.zip\r\n",
      "  inflating: 8band_AOI_1_RIO_img47.tif  \r\n",
      "  inflating: 8band_AOI_1_RIO_img66.tif  \r\n",
      "  inflating: airport.PNG             \r\n",
      "  inflating: 8band_AOI_1_RIO_img67.tif  \r\n",
      "  inflating: 8band_AOI_1_RIO_img46.tif  \r\n"
     ]
    }
   ],
   "source": [
    "!unzip -j 'Questão 2-20240328T203801Z-001.zip'"
   ]
  },
  {
   "cell_type": "code",
   "execution_count": 2,
   "id": "5102e6b2",
   "metadata": {},
   "outputs": [
    {
     "name": "stdout",
     "output_type": "stream",
     "text": [
      " 8band_AOI_1_RIO_img46.tif   airport.PNG\r\n",
      " 8band_AOI_1_RIO_img47.tif  'Questão 2-20240328T203801Z-001.zip'\r\n",
      " 8band_AOI_1_RIO_img66.tif   Resolucao2.ipynb\r\n",
      " 8band_AOI_1_RIO_img67.tif\r\n"
     ]
    }
   ],
   "source": [
    "!ls"
   ]
  },
  {
   "cell_type": "code",
   "execution_count": null,
   "id": "fce08242",
   "metadata": {},
   "outputs": [],
   "source": []
  }
 ],
 "metadata": {
  "kernelspec": {
   "display_name": "Python 3 (ipykernel)",
   "language": "python",
   "name": "python3"
  },
  "language_info": {
   "codemirror_mode": {
    "name": "ipython",
    "version": 3
   },
   "file_extension": ".py",
   "mimetype": "text/x-python",
   "name": "python",
   "nbconvert_exporter": "python",
   "pygments_lexer": "ipython3",
   "version": "3.8.18"
  }
 },
 "nbformat": 4,
 "nbformat_minor": 5
}
