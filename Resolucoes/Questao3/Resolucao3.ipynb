{
 "cells": [
  {
   "cell_type": "markdown",
   "id": "947f1ae9",
   "metadata": {},
   "source": [
    "## Prova prática de Visão Computacional\n",
    "\n",
    "3. Seja o conjunto de dados disponibilizado na pasta Questão 3 (imagens e anotações em arquivo .json associado à construções, sobre imagens satelitais), implemente algum modelo responsável pela segmentação das residências presentes as imagens satelitais disponibilizadas."
   ]
  },
  {
   "cell_type": "code",
   "execution_count": 1,
   "id": "28a3d205",
   "metadata": {},
   "outputs": [
    {
     "name": "stdout",
     "output_type": "stream",
     "text": [
      "Archive:  Questão 3-20240328T203815Z-002.zip\r\n",
      "  inflating: README.txt              \r\n"
     ]
    }
   ],
   "source": [
    "!unzip -j 'Questão 3-20240328T203815Z-002.zip'"
   ]
  },
  {
   "cell_type": "code",
   "execution_count": 2,
   "id": "9a6c8d34",
   "metadata": {},
   "outputs": [
    {
     "name": "stdout",
     "output_type": "stream",
     "text": [
      "'Questão 3-20240328T203815Z-002.zip'   README.txt   Resolucao3.ipynb\r\n"
     ]
    }
   ],
   "source": [
    "!ls"
   ]
  },
  {
   "cell_type": "code",
   "execution_count": null,
   "id": "ce8bbaae",
   "metadata": {},
   "outputs": [],
   "source": []
  }
 ],
 "metadata": {
  "kernelspec": {
   "display_name": "Python 3 (ipykernel)",
   "language": "python",
   "name": "python3"
  },
  "language_info": {
   "codemirror_mode": {
    "name": "ipython",
    "version": 3
   },
   "file_extension": ".py",
   "mimetype": "text/x-python",
   "name": "python",
   "nbconvert_exporter": "python",
   "pygments_lexer": "ipython3",
   "version": "3.8.18"
  }
 },
 "nbformat": 4,
 "nbformat_minor": 5
}
