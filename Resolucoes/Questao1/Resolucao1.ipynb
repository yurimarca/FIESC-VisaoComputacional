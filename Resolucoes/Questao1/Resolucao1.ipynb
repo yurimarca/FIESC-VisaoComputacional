{
 "cells": [
  {
   "cell_type": "markdown",
   "id": "c46c50d6",
   "metadata": {},
   "source": [
    "## Prova prática de Visão Computacional\n",
    "\n",
    "1. Seja a imagem satelital com ruído de fundo salt & pepper (PSNR=25dB), inserida na pasta compartilhada denominada airport_gray_noisy.png (pasta Questão 1). Implemente um código com alguma técnica para remoção parcial do ruído apresentado."
   ]
  },
  {
   "cell_type": "code",
   "execution_count": 1,
   "id": "7cfcd330",
   "metadata": {},
   "outputs": [
    {
     "name": "stdout",
     "output_type": "stream",
     "text": [
      "Archive:  Questão 1-20240328T201710Z-001.zip\r\n",
      "  inflating: airport_gray_noisy.PNG  \r\n",
      "  inflating: airport.PNG             \r\n",
      "  inflating: airport_gray.PNG        \r\n"
     ]
    }
   ],
   "source": [
    "!unzip -j 'Questão 1-20240328T201710Z-001.zip'"
   ]
  },
  {
   "cell_type": "code",
   "execution_count": 2,
   "id": "9f816fc6",
   "metadata": {},
   "outputs": [
    {
     "name": "stdout",
     "output_type": "stream",
     "text": [
      " airport_gray_noisy.PNG   airport.PNG\t\t\t        Untitled.ipynb\r\n",
      " airport_gray.PNG\t 'Questão 1-20240328T201710Z-001.zip'\r\n"
     ]
    }
   ],
   "source": [
    "!ls"
   ]
  },
  {
   "cell_type": "code",
   "execution_count": 3,
   "id": "93657f2b",
   "metadata": {},
   "outputs": [
    {
     "name": "stdout",
     "output_type": "stream",
     "text": [
      " airport_gray_noisy.PNG  'Questão 1-20240328T201710Z-001.zip'\r\n",
      " airport_gray.PNG\t  Resolucao1.ipynb\r\n",
      " airport.PNG\r\n"
     ]
    }
   ],
   "source": [
    "!ls"
   ]
  },
  {
   "cell_type": "code",
   "execution_count": null,
   "id": "e58846d0",
   "metadata": {},
   "outputs": [],
   "source": []
  }
 ],
 "metadata": {
  "kernelspec": {
   "display_name": "Python 3 (ipykernel)",
   "language": "python",
   "name": "python3"
  },
  "language_info": {
   "codemirror_mode": {
    "name": "ipython",
    "version": 3
   },
   "file_extension": ".py",
   "mimetype": "text/x-python",
   "name": "python",
   "nbconvert_exporter": "python",
   "pygments_lexer": "ipython3",
   "version": "3.8.18"
  }
 },
 "nbformat": 4,
 "nbformat_minor": 5
}
